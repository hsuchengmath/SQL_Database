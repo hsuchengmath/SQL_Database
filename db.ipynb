{
 "cells": [
  {
   "cell_type": "code",
   "execution_count": 51,
   "metadata": {},
   "outputs": [],
   "source": [
    "import mysql.connector\n",
    "\n",
    "mydb =  mysql.connector.connect(\n",
    "  host=\"localhost\",\n",
    "  user=\"hsucheng\",\n",
    "  password=\"hsucheng\",\n",
    "  database = 'Book_Crossing'\n",
    ")\n",
    "\n",
    "mycursor = mydb.cursor()\n",
    "#mycursor.execute(\"CREATE DATABASE Book_Crossing\")"
   ]
  },
  {
   "cell_type": "code",
   "execution_count": 32,
   "metadata": {},
   "outputs": [],
   "source": [
    "import pandas as pd\n",
    "\n",
    "data = pd.read_csv('Preprocessed_data.csv')"
   ]
  },
  {
   "cell_type": "code",
   "execution_count": 44,
   "metadata": {
    "scrolled": true
   },
   "outputs": [
    {
     "data": {
      "text/html": [
       "<div>\n",
       "<style scoped>\n",
       "    .dataframe tbody tr th:only-of-type {\n",
       "        vertical-align: middle;\n",
       "    }\n",
       "\n",
       "    .dataframe tbody tr th {\n",
       "        vertical-align: top;\n",
       "    }\n",
       "\n",
       "    .dataframe thead th {\n",
       "        text-align: right;\n",
       "    }\n",
       "</style>\n",
       "<table border=\"1\" class=\"dataframe\">\n",
       "  <thead>\n",
       "    <tr style=\"text-align: right;\">\n",
       "      <th></th>\n",
       "      <th>Unnamed: 0</th>\n",
       "      <th>user_id</th>\n",
       "      <th>location</th>\n",
       "      <th>age</th>\n",
       "      <th>isbn</th>\n",
       "      <th>rating</th>\n",
       "      <th>book_title</th>\n",
       "      <th>book_author</th>\n",
       "      <th>year_of_publication</th>\n",
       "      <th>publisher</th>\n",
       "      <th>img_s</th>\n",
       "      <th>img_m</th>\n",
       "      <th>img_l</th>\n",
       "      <th>Summary</th>\n",
       "      <th>Language</th>\n",
       "      <th>Category</th>\n",
       "      <th>city</th>\n",
       "      <th>state</th>\n",
       "      <th>country</th>\n",
       "    </tr>\n",
       "  </thead>\n",
       "  <tbody>\n",
       "    <tr>\n",
       "      <th>0</th>\n",
       "      <td>0</td>\n",
       "      <td>2</td>\n",
       "      <td>stockton, california, usa</td>\n",
       "      <td>18.0000</td>\n",
       "      <td>0195153448</td>\n",
       "      <td>0</td>\n",
       "      <td>Classical Mythology</td>\n",
       "      <td>Mark P. O. Morford</td>\n",
       "      <td>2002.0</td>\n",
       "      <td>Oxford University Press</td>\n",
       "      <td>http://images.amazon.com/images/P/0195153448.0...</td>\n",
       "      <td>http://images.amazon.com/images/P/0195153448.0...</td>\n",
       "      <td>http://images.amazon.com/images/P/0195153448.0...</td>\n",
       "      <td>Provides an introduction to classical myths pl...</td>\n",
       "      <td>en</td>\n",
       "      <td>['Social Science']</td>\n",
       "      <td>stockton</td>\n",
       "      <td>california</td>\n",
       "      <td>usa</td>\n",
       "    </tr>\n",
       "    <tr>\n",
       "      <th>1</th>\n",
       "      <td>1</td>\n",
       "      <td>8</td>\n",
       "      <td>timmins, ontario, canada</td>\n",
       "      <td>34.7439</td>\n",
       "      <td>0002005018</td>\n",
       "      <td>5</td>\n",
       "      <td>Clara Callan</td>\n",
       "      <td>Richard Bruce Wright</td>\n",
       "      <td>2001.0</td>\n",
       "      <td>HarperFlamingo Canada</td>\n",
       "      <td>http://images.amazon.com/images/P/0002005018.0...</td>\n",
       "      <td>http://images.amazon.com/images/P/0002005018.0...</td>\n",
       "      <td>http://images.amazon.com/images/P/0002005018.0...</td>\n",
       "      <td>In a small town in Canada, Clara Callan reluct...</td>\n",
       "      <td>en</td>\n",
       "      <td>['Actresses']</td>\n",
       "      <td>timmins</td>\n",
       "      <td>ontario</td>\n",
       "      <td>canada</td>\n",
       "    </tr>\n",
       "    <tr>\n",
       "      <th>2</th>\n",
       "      <td>2</td>\n",
       "      <td>11400</td>\n",
       "      <td>ottawa, ontario, canada</td>\n",
       "      <td>49.0000</td>\n",
       "      <td>0002005018</td>\n",
       "      <td>0</td>\n",
       "      <td>Clara Callan</td>\n",
       "      <td>Richard Bruce Wright</td>\n",
       "      <td>2001.0</td>\n",
       "      <td>HarperFlamingo Canada</td>\n",
       "      <td>http://images.amazon.com/images/P/0002005018.0...</td>\n",
       "      <td>http://images.amazon.com/images/P/0002005018.0...</td>\n",
       "      <td>http://images.amazon.com/images/P/0002005018.0...</td>\n",
       "      <td>In a small town in Canada, Clara Callan reluct...</td>\n",
       "      <td>en</td>\n",
       "      <td>['Actresses']</td>\n",
       "      <td>ottawa</td>\n",
       "      <td>ontario</td>\n",
       "      <td>canada</td>\n",
       "    </tr>\n",
       "    <tr>\n",
       "      <th>3</th>\n",
       "      <td>3</td>\n",
       "      <td>11676</td>\n",
       "      <td>n/a, n/a, n/a</td>\n",
       "      <td>34.7439</td>\n",
       "      <td>0002005018</td>\n",
       "      <td>8</td>\n",
       "      <td>Clara Callan</td>\n",
       "      <td>Richard Bruce Wright</td>\n",
       "      <td>2001.0</td>\n",
       "      <td>HarperFlamingo Canada</td>\n",
       "      <td>http://images.amazon.com/images/P/0002005018.0...</td>\n",
       "      <td>http://images.amazon.com/images/P/0002005018.0...</td>\n",
       "      <td>http://images.amazon.com/images/P/0002005018.0...</td>\n",
       "      <td>In a small town in Canada, Clara Callan reluct...</td>\n",
       "      <td>en</td>\n",
       "      <td>['Actresses']</td>\n",
       "      <td>NaN</td>\n",
       "      <td>NaN</td>\n",
       "      <td>NaN</td>\n",
       "    </tr>\n",
       "    <tr>\n",
       "      <th>4</th>\n",
       "      <td>4</td>\n",
       "      <td>41385</td>\n",
       "      <td>sudbury, ontario, canada</td>\n",
       "      <td>34.7439</td>\n",
       "      <td>0002005018</td>\n",
       "      <td>0</td>\n",
       "      <td>Clara Callan</td>\n",
       "      <td>Richard Bruce Wright</td>\n",
       "      <td>2001.0</td>\n",
       "      <td>HarperFlamingo Canada</td>\n",
       "      <td>http://images.amazon.com/images/P/0002005018.0...</td>\n",
       "      <td>http://images.amazon.com/images/P/0002005018.0...</td>\n",
       "      <td>http://images.amazon.com/images/P/0002005018.0...</td>\n",
       "      <td>In a small town in Canada, Clara Callan reluct...</td>\n",
       "      <td>en</td>\n",
       "      <td>['Actresses']</td>\n",
       "      <td>sudbury</td>\n",
       "      <td>ontario</td>\n",
       "      <td>canada</td>\n",
       "    </tr>\n",
       "  </tbody>\n",
       "</table>\n",
       "</div>"
      ],
      "text/plain": [
       "   Unnamed: 0  user_id                   location      age        isbn  \\\n",
       "0           0        2  stockton, california, usa  18.0000  0195153448   \n",
       "1           1        8   timmins, ontario, canada  34.7439  0002005018   \n",
       "2           2    11400    ottawa, ontario, canada  49.0000  0002005018   \n",
       "3           3    11676              n/a, n/a, n/a  34.7439  0002005018   \n",
       "4           4    41385   sudbury, ontario, canada  34.7439  0002005018   \n",
       "\n",
       "   rating           book_title           book_author  year_of_publication  \\\n",
       "0       0  Classical Mythology    Mark P. O. Morford               2002.0   \n",
       "1       5         Clara Callan  Richard Bruce Wright               2001.0   \n",
       "2       0         Clara Callan  Richard Bruce Wright               2001.0   \n",
       "3       8         Clara Callan  Richard Bruce Wright               2001.0   \n",
       "4       0         Clara Callan  Richard Bruce Wright               2001.0   \n",
       "\n",
       "                 publisher                                              img_s  \\\n",
       "0  Oxford University Press  http://images.amazon.com/images/P/0195153448.0...   \n",
       "1    HarperFlamingo Canada  http://images.amazon.com/images/P/0002005018.0...   \n",
       "2    HarperFlamingo Canada  http://images.amazon.com/images/P/0002005018.0...   \n",
       "3    HarperFlamingo Canada  http://images.amazon.com/images/P/0002005018.0...   \n",
       "4    HarperFlamingo Canada  http://images.amazon.com/images/P/0002005018.0...   \n",
       "\n",
       "                                               img_m  \\\n",
       "0  http://images.amazon.com/images/P/0195153448.0...   \n",
       "1  http://images.amazon.com/images/P/0002005018.0...   \n",
       "2  http://images.amazon.com/images/P/0002005018.0...   \n",
       "3  http://images.amazon.com/images/P/0002005018.0...   \n",
       "4  http://images.amazon.com/images/P/0002005018.0...   \n",
       "\n",
       "                                               img_l  \\\n",
       "0  http://images.amazon.com/images/P/0195153448.0...   \n",
       "1  http://images.amazon.com/images/P/0002005018.0...   \n",
       "2  http://images.amazon.com/images/P/0002005018.0...   \n",
       "3  http://images.amazon.com/images/P/0002005018.0...   \n",
       "4  http://images.amazon.com/images/P/0002005018.0...   \n",
       "\n",
       "                                             Summary Language  \\\n",
       "0  Provides an introduction to classical myths pl...       en   \n",
       "1  In a small town in Canada, Clara Callan reluct...       en   \n",
       "2  In a small town in Canada, Clara Callan reluct...       en   \n",
       "3  In a small town in Canada, Clara Callan reluct...       en   \n",
       "4  In a small town in Canada, Clara Callan reluct...       en   \n",
       "\n",
       "             Category      city       state country  \n",
       "0  ['Social Science']  stockton  california     usa  \n",
       "1       ['Actresses']   timmins     ontario  canada  \n",
       "2       ['Actresses']    ottawa     ontario  canada  \n",
       "3       ['Actresses']       NaN         NaN     NaN  \n",
       "4       ['Actresses']   sudbury     ontario  canada  "
      ]
     },
     "execution_count": 44,
     "metadata": {},
     "output_type": "execute_result"
    }
   ],
   "source": [
    "data.head()"
   ]
  },
  {
   "cell_type": "code",
   "execution_count": 48,
   "metadata": {
    "scrolled": false
   },
   "outputs": [
    {
     "name": "stdout",
     "output_type": "stream",
     "text": [
      "<class 'pandas.core.frame.DataFrame'>\n",
      "RangeIndex: 1031175 entries, 0 to 1031174\n",
      "Data columns (total 4 columns):\n",
      "user_id    1031175 non-null int64\n",
      "isbn       1031175 non-null object\n",
      "rating     1031175 non-null int64\n",
      "city       1017072 non-null object\n",
      "dtypes: int64(2), object(2)\n",
      "memory usage: 31.5+ MB\n"
     ]
    }
   ],
   "source": [
    "data[['user_id','isbn','rating']]"
   ]
  },
  {
   "cell_type": "code",
   "execution_count": 55,
   "metadata": {},
   "outputs": [
    {
     "name": "stdout",
     "output_type": "stream",
     "text": [
      "1031175\n",
      "1031175\n",
      "1031175\n"
     ]
    }
   ],
   "source": [
    "user_id = list(data['user_id'])\n",
    "isbn = list(data['isbn'])\n",
    "rating = list(data['rating'])\n",
    "print(len(user_id))\n",
    "print(len(isbn))\n",
    "print(len(rating))"
   ]
  },
  {
   "cell_type": "code",
   "execution_count": 56,
   "metadata": {},
   "outputs": [],
   "source": [
    "user_id = list(data['user_id'])\n",
    "isbn = list(data['isbn'])\n",
    "rating = list(data['rating'])\n",
    "\n",
    "sql = \"INSERT INTO user_book_rating (user_id, isbn, rating, primary_key) VALUES (%s, %s, %s, %s)\"\n",
    "\n",
    "for i in range(len(user_id)):\n",
    "    val = (int(user_id[i]), str(isbn[i]), int(rating[i]),i)\n",
    "    mycursor.execute(sql, val)\n",
    "mydb.commit()"
   ]
  },
  {
   "cell_type": "code",
   "execution_count": 59,
   "metadata": {},
   "outputs": [
    {
     "name": "stdout",
     "output_type": "stream",
     "text": [
      "1031175\n",
      "1031175\n",
      "1031175\n",
      "<class 'pandas.core.frame.DataFrame'>\n",
      "RangeIndex: 1031175 entries, 0 to 1031174\n",
      "Data columns (total 3 columns):\n",
      "user_id     1031175 non-null int64\n",
      "location    1031175 non-null object\n",
      "age         1031175 non-null float64\n",
      "dtypes: float64(1), int64(1), object(1)\n",
      "memory usage: 23.6+ MB\n"
     ]
    }
   ],
   "source": [
    "user_id = list(data['user_id'])\n",
    "location = list(data['location'])\n",
    "age = list(data['age'])\n",
    "print(len(user_id))\n",
    "print(len(location))\n",
    "print(len(age))\n",
    "data[['user_id','location','age']].info()"
   ]
  },
  {
   "cell_type": "code",
   "execution_count": 61,
   "metadata": {},
   "outputs": [],
   "source": [
    "user_id = list(data['user_id'])\n",
    "location = list(data['location'])\n",
    "age = list(data['age'])\n",
    "\n",
    "sql = \"INSERT INTO user_feature (user_id, location, age, primary_key) VALUES (%s, %s, %s, %s)\"\n",
    "\n",
    "for i in range(len(user_id)):\n",
    "    val = (int(user_id[i]), str(location[i]), int(age[i]),i)\n",
    "    mycursor.execute(sql, val)\n",
    "mydb.commit()"
   ]
  },
  {
   "cell_type": "code",
   "execution_count": null,
   "metadata": {},
   "outputs": [],
   "source": []
  },
  {
   "cell_type": "code",
   "execution_count": 66,
   "metadata": {},
   "outputs": [
    {
     "name": "stdout",
     "output_type": "stream",
     "text": [
      "<class 'pandas.core.frame.DataFrame'>\n",
      "RangeIndex: 1031175 entries, 0 to 1031174\n",
      "Data columns (total 8 columns):\n",
      "isbn                   1031175 non-null object\n",
      "book_title             1031175 non-null object\n",
      "book_author            1031175 non-null object\n",
      "year_of_publication    1031175 non-null float64\n",
      "publisher              1031175 non-null object\n",
      "Language               1031175 non-null object\n",
      "Category               1031175 non-null object\n",
      "country                995801 non-null object\n",
      "dtypes: float64(1), object(7)\n",
      "memory usage: 62.9+ MB\n",
      "111\n"
     ]
    }
   ],
   "source": [
    "isbn = list(data['isbn'])\n",
    "book_title = list(data['book_title'])\n",
    "book_author = list(data['book_author'])\n",
    "year_of_publication = list(data['year_of_publication'])\n",
    "publisher = list(data['publisher'])\n",
    "Language = list(data['Language'])\n",
    "Category = list(data['Category'])\n",
    "country = list(data['country'])\n",
    "data[['isbn','book_title','book_author','year_of_publication','publisher','Language','Category','country']].info()\n",
    "if pd.isnull(country[3]) is True:\n",
    "    print(111)"
   ]
  },
  {
   "cell_type": "code",
   "execution_count": null,
   "metadata": {},
   "outputs": [],
   "source": []
  },
  {
   "cell_type": "code",
   "execution_count": 91,
   "metadata": {},
   "outputs": [],
   "source": [
    "isbn = list(data['isbn'])\n",
    "book_title = list(data['book_title'])\n",
    "book_author = list(data['book_author'])\n",
    "year_of_publication = list(data['year_of_publication'])\n",
    "publisher = list(data['publisher'])\n",
    "Language = list(data['Language'])\n",
    "Category = list(data['Category'])\n",
    "country = list(data['country'])\n",
    "\n",
    "\n",
    "sql = \"INSERT INTO book_feature (isbn,book_author,year_of_publication,publisher,Language, primary_key) VALUES (%s, %s, %s,%s, %s,%s)\"\n",
    "\n",
    "for i in range(len(isbn)):\n",
    "    if pd.isnull(country[i]) is True:\n",
    "        token = 'None'\n",
    "    else:\n",
    "        token = str(country[i])\n",
    "    val = (str(isbn[i]),str(book_author[i]),int(year_of_publication[i]),str(publisher[i]),str(Language[i]),i)\n",
    "    mycursor.execute(sql, val)\n",
    "mydb.commit()"
   ]
  },
  {
   "cell_type": "code",
   "execution_count": null,
   "metadata": {},
   "outputs": [],
   "source": [
    "mycursor.execute(\"CREATE TABLE book_feature (\n",
    "                 isbn VARCHAR(255), book_title \n",
    "                 VARCHAR(255) , book_author VARCHAR(255),\n",
    "                 year_of_publication int, publisher VARCHAR(255),\n",
    "                 Language VARCHAR(10),Category VARCHAR(50),country VARCHAR(20),\n",
    "                 primary_key int PRIMARY KEY)\")"
   ]
  },
  {
   "cell_type": "code",
   "execution_count": 21,
   "metadata": {},
   "outputs": [
    {
     "name": "stdout",
     "output_type": "stream",
     "text": [
      "['User-ID', 'ISBN', 'Book-Rating']\n"
     ]
    }
   ],
   "source": [
    "class Data_Process_for_GOTODB:\n",
    "    def __init__(self, path=None):\n",
    "        self.path = path\n",
    "        self.open_data_init()\n",
    "\n",
    "    def open_data_init(self):\n",
    "        with open(self.path, 'r',encoding='latin1') as f:\n",
    "            self.data = f.readlines()\n",
    "\n",
    "    def show_columns(self):\n",
    "        column_name = self.data[0].split(';')\n",
    "        column_name = [column_name[i].replace('\"','').replace('\\n','') for i in range(len(column_name))]\n",
    "        return column_name\n",
    "\n",
    "    def show_data(self):\n",
    "        data = self.data[1:]\n",
    "        output_data = list()\n",
    "        for element in data:\n",
    "            output_data_unit = list()\n",
    "            element = element.split(';')\n",
    "            for unit_element in element:\n",
    "                output_data_unit.append(unit_element.replace('\"','').replace('\\n',''))\n",
    "            output_data.append(output_data_unit)\n",
    "        return output_data\n",
    "\n",
    "rating_obj = Data_Process_for_GOTODB(path='BX-Book-Ratings.csv')   \n",
    "print(rating_obj.show_columns())\n",
    "data = rating_obj.show_data()\n",
    "for unit_data in data:\n",
    "    int(unit_data[0])\n",
    "    int(unit_data[2])\n",
    "    \n",
    "\n",
    "\n",
    "#with open('BX-Book-Ratings.csv', 'r',encoding='latin1') as f:\n",
    "#    data = f.readlines()\n",
    "#column_name = data[0].split(';')\n",
    "#column_name = [column_name[i].replace('\"','').replace('\\n','') for i in range(len(column_name))]\n",
    "#column_name\n",
    "#rating_csv = pd.read_csv('BX-Book-Ratings.csv')\n",
    "#user_csv = pd.read_csv('BX-Users.csv')\n",
    "#book_csv = pd.read_csv('BX_Books.csv')"
   ]
  },
  {
   "cell_type": "code",
   "execution_count": 18,
   "metadata": {},
   "outputs": [
    {
     "name": "stdout",
     "output_type": "stream",
     "text": [
      "['ISBN', 'Book-Title', 'Book-Author', 'Year-Of-Publication', 'Publisher', 'Image-URL-S', 'Image-URL-M', 'Image-URL-L']\n"
     ]
    }
   ],
   "source": [
    "book_obj = Data_Process_for_GOTODB(path='BX_Books.csv')   \n",
    "print(book_obj.show_columns())\n",
    "#book_obj.show_data()[:10]"
   ]
  },
  {
   "cell_type": "code",
   "execution_count": null,
   "metadata": {},
   "outputs": [],
   "source": []
  },
  {
   "cell_type": "code",
   "execution_count": 53,
   "metadata": {
    "scrolled": true
   },
   "outputs": [],
   "source": [
    "mycursor.execute(\"CREATE TABLE user_book_rating (user_id int, isbn VARCHAR(255) , rating int, primary_key int PRIMARY KEY)\")\n",
    "mycursor.execute(\"CREATE TABLE user_feature (user_id int, location VARCHAR(255) , age float, primary_key int PRIMARY KEY)\")\n",
    "mycursor.execute(\"CREATE TABLE book_feature (isbn VARCHAR(255), book_title VARCHAR(255) , book_author VARCHAR(255), year_of_publication int, publisher VARCHAR(255),Language VARCHAR(10),Category VARCHAR(50),country VARCHAR(20), primary_key int PRIMARY KEY)\")"
   ]
  },
  {
   "cell_type": "code",
   "execution_count": 89,
   "metadata": {},
   "outputs": [],
   "source": [
    "mycursor.execute(\"CREATE TABLE book_feature (isbn VARCHAR(255) , book_author VARCHAR(255), year_of_publication int, publisher VARCHAR(255),Language VARCHAR(10), primary_key int PRIMARY KEY)\")"
   ]
  },
  {
   "cell_type": "code",
   "execution_count": 88,
   "metadata": {},
   "outputs": [],
   "source": [
    "mycursor.execute('DROP TABLE book_feature')"
   ]
  },
  {
   "cell_type": "code",
   "execution_count": null,
   "metadata": {},
   "outputs": [],
   "source": []
  }
 ],
 "metadata": {
  "kernelspec": {
   "display_name": "Python 3",
   "language": "python",
   "name": "python3"
  },
  "language_info": {
   "codemirror_mode": {
    "name": "ipython",
    "version": 3
   },
   "file_extension": ".py",
   "mimetype": "text/x-python",
   "name": "python",
   "nbconvert_exporter": "python",
   "pygments_lexer": "ipython3",
   "version": "3.6.9"
  }
 },
 "nbformat": 4,
 "nbformat_minor": 2
}
